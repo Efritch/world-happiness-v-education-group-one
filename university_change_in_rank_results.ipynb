{
 "cells": [
  {
   "cell_type": "code",
   "execution_count": null,
   "metadata": {},
   "outputs": [],
   "source": [
    "# Dependencies and Setup\n",
    "import matplotlib.pyplot as plt\n",
    "import pandas as pd\n",
    "import numpy as np"
   ]
  },
  {
   "cell_type": "code",
   "execution_count": null,
   "metadata": {
    "scrolled": true
   },
   "outputs": [],
   "source": [
    "univ_rank_changes = pd.read_csv('Results/univ_rank_changes.csv')\n",
    "univ_rank_changes.head()"
   ]
  },
  {
   "cell_type": "code",
   "execution_count": null,
   "metadata": {
    "scrolled": false
   },
   "outputs": [],
   "source": [
    "# Create a dataframe to include the 15 universities that had the most positive change in rank\n",
    "# from 2018 to 2019\n",
    "best_univ_change = univ_rank_changes.sort_values(by=['rank_change'], ascending=False)\n",
    "best_15 = best_univ_change.nlargest(15,'rank_change')\n",
    "best_15"
   ]
  },
  {
   "cell_type": "code",
   "execution_count": null,
   "metadata": {},
   "outputs": [],
   "source": [
    "# Create chart to show the top 15 universities that had the greatest positive change in rank\n",
    "ax = best_15.plot.bar(x='institution_name', y='rank_change')\n",
    "plt.title('Universities with Most Positive Change in Rank (2018 to 2019)')\n",
    "plt.xlabel('University')\n",
    "plt.ylabel('Change in Rank')\n",
    "\n",
    "# Save full figure as PNG file\n",
    "plt.savefig(\"Results/most_positive_change_in_rank.png\")"
   ]
  },
  {
   "cell_type": "code",
   "execution_count": null,
   "metadata": {},
   "outputs": [],
   "source": [
    "# Create a dataframe to include the 15 universities that had the most negative change in rank\n",
    "# from 2018 to 2019\n",
    "worst_univ_change = univ_rank_changes.sort_values(by=['rank_change'], ascending=True)\n",
    "worst_15 = worst_univ_change.nsmallest(15,'rank_change')\n",
    "worst_15"
   ]
  },
  {
   "cell_type": "code",
   "execution_count": null,
   "metadata": {},
   "outputs": [],
   "source": [
    "# Create chart to show the top 15 universities that had the greatest positive change in rank\n",
    "ay = worst_15.plot.bar(x='institution_name', y='rank_change')\n",
    "plt.title('Universities with Most Negative Change in Rank (2018 to 2019)')\n",
    "plt.xlabel('University')\n",
    "plt.ylabel('Change in Rank')\n",
    "\n",
    "# Save full figure as PNG file\n",
    "plt.savefig(\"Results/most_negative_change_in_rank.png\")"
   ]
  },
  {
   "cell_type": "code",
   "execution_count": null,
   "metadata": {},
   "outputs": [],
   "source": []
  },
  {
   "cell_type": "code",
   "execution_count": null,
   "metadata": {},
   "outputs": [],
   "source": []
  },
  {
   "cell_type": "code",
   "execution_count": null,
   "metadata": {},
   "outputs": [],
   "source": []
  }
 ],
 "metadata": {
  "kernelspec": {
   "display_name": "Python [conda env:PythonData]",
   "language": "python",
   "name": "conda-env-PythonData-py"
  },
  "language_info": {
   "codemirror_mode": {
    "name": "ipython",
    "version": 3
   },
   "file_extension": ".py",
   "mimetype": "text/x-python",
   "name": "python",
   "nbconvert_exporter": "python",
   "pygments_lexer": "ipython3",
   "version": "3.6.10"
  }
 },
 "nbformat": 4,
 "nbformat_minor": 4
}
