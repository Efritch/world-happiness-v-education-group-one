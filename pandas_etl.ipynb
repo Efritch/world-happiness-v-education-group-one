{
 "cells": [
  {
   "cell_type": "code",
   "execution_count": null,
   "metadata": {},
   "outputs": [],
   "source": [
    "import pandas as pd\n",
    "import numpy as np\n",
    "from sqlalchemy import create_engine"
   ]
  },
  {
   "cell_type": "markdown",
   "metadata": {},
   "source": [
    "## Extract CSVs into DataFrames"
   ]
  },
  {
   "cell_type": "code",
   "execution_count": null,
   "metadata": {},
   "outputs": [],
   "source": [
    "# Extract happiness rankings CSV into DataFrame\n",
    "happy_file = \"resources/2019_world_happiness_rankings.csv\"\n",
    "happy_df = pd.read_csv(happy_file, encoding='UTF-8')\n",
    "happy_df.head()"
   ]
  },
  {
   "cell_type": "code",
   "execution_count": null,
   "metadata": {},
   "outputs": [],
   "source": [
    "# Extract university rankings CSV into DataFrame\n",
    "university_file = \"resources/2019_QS_world_university_rankings.csv\"\n",
    "university_df = pd.read_csv(university_file, encoding='ISO-8859-1')\n",
    "university_df.head()"
   ]
  },
  {
   "cell_type": "markdown",
   "metadata": {},
   "source": [
    "## Clean Up of University Rankings"
   ]
  },
  {
   "cell_type": "code",
   "execution_count": null,
   "metadata": {},
   "outputs": [],
   "source": [
    "# Remove unnecessary columns\n",
    "university_df = university_df.drop(['Focus', 'Research Intensity', 'Age', 'Status'], axis=1)\n",
    "\n",
    "# Drop universities that were unranked in 2019\n",
    "university_df = university_df.dropna(subset=['2019'])"
   ]
  },
  {
   "cell_type": "code",
   "execution_count": null,
   "metadata": {},
   "outputs": [],
   "source": [
    "# The dataset includes '=' at the end of ranking ties\n",
    "university_df['2019'] = university_df['2019'].str.rstrip('=')\n",
    "university_df['2018'] = university_df['2018'].str.rstrip('=')"
   ]
  },
  {
   "cell_type": "code",
   "execution_count": null,
   "metadata": {},
   "outputs": [],
   "source": [
    "# The dataset includes '+' at the end of the attribute ranks (i.e. International Faculty Rank of 601+)\n",
    "university_df['Academic Reputation Rank'] = university_df['Academic Reputation Rank'].str.rstrip('+')\n",
    "university_df['Employer Reputation Rank'] = university_df['Employer Reputation Rank'].str.rstrip('+')\n",
    "university_df['Faculty Student Rank'] = university_df['Faculty Student Rank'].str.rstrip('+')\n",
    "university_df['Citations per Faculty Rank'] = university_df['Citations per Faculty Rank'].str.rstrip('+')\n",
    "university_df['International Faculty Rank'] = university_df['International Faculty Rank'].str.rstrip('+')\n",
    "university_df['International Students Rank'] = university_df['International Students Rank'].str.rstrip('+')"
   ]
  },
  {
   "cell_type": "code",
   "execution_count": null,
   "metadata": {},
   "outputs": [],
   "source": [
    "# Because some rankings begin with a double space, we need to remove these characters\n",
    "university_df['2019'] = university_df['2019'].str.strip()\n",
    "university_df['2018'] = university_df['2018'].str.strip()"
   ]
  },
  {
   "cell_type": "code",
   "execution_count": null,
   "metadata": {},
   "outputs": [],
   "source": [
    "# The dataset includes ranges for higher rankings (i.e. 801-1000)\n",
    "# Split the rankings from 2019 to only include lowest rank in the range\n",
    "university_df['2019'] = university_df['2019'].str[:3]\n",
    "university_df['2018'] = university_df['2018'].str[:3]"
   ]
  },
  {
   "cell_type": "code",
   "execution_count": null,
   "metadata": {},
   "outputs": [],
   "source": [
    "# When a score or rank was not taken for a university, the CSV notes it with either a '-' or an empty cell\n",
    "# Convert all '-' cells into empty cells\n",
    "university_df.replace({'-': np.nan}, inplace=True)"
   ]
  },
  {
   "cell_type": "code",
   "execution_count": null,
   "metadata": {},
   "outputs": [],
   "source": [
    "# Rename columns in both DataFrames\n",
    "# Happiness rankings DataFrame\n",
    "happy_df = happy_df.rename(columns = {\n",
    "    'Overall rank': 'overall_rank',\n",
    "    'Country or region': 'country',\n",
    "    'Score': 'score',\n",
    "    'GDP per capita': 'gdp_per_capita_score',\n",
    "    'Social support': 'social_support_score',\n",
    "    'Healthy life expectancy': 'healthy_life_expectancy_score',\n",
    "    'Freedom to make life choices': 'freedom_life_choices_score',\n",
    "    'Generosity': 'generosity',\n",
    "    'Perceptions of corruption': 'perceived_corruption_score'\n",
    "})\n",
    "\n",
    "# University rankings DataFrame\n",
    "university_df = university_df.rename(columns = {\n",
    "    '2019': 'year_2019',\n",
    "    '2018': 'year_2018',\n",
    "    'Institution Name': 'institution_name',\n",
    "    'Country': 'country',\n",
    "    'Classification Size': 'class_size',\n",
    "    'Academic Reputation Score': 'academic_rep_score',\n",
    "    'Academic Reputation Rank': 'academic_rep_rank',\n",
    "    'Employer Reputation Score': 'employer_rep_score',\n",
    "    'Employer Reputation Rank': 'employer_rep_rank',\n",
    "    'Faculty Student Score': 'faculty_student_score',\n",
    "    'Faculty Student Rank': 'faculty_student_rank',\n",
    "    'Citations per Faculty Score': 'faculty_citations_score',\n",
    "    'Citations per Faculty Rank': 'faculty_citations_rank',\n",
    "    'International Faculty Score': 'intl_faculty_score',\n",
    "    'International Faculty Rank': 'intl_faculty_rank',\n",
    "    'International Students Score': 'intl_students_score',\n",
    "    'International Students Rank': 'intl_students_rank',\n",
    "    'Overall Score': 'overall_score'})"
   ]
  },
  {
   "cell_type": "code",
   "execution_count": null,
   "metadata": {},
   "outputs": [],
   "source": [
    "# Set indices\n",
    "university_df.set_index('institution_name', inplace=True)\n",
    "happy_df.set_index('country', inplace=True)"
   ]
  },
  {
   "cell_type": "code",
   "execution_count": null,
   "metadata": {},
   "outputs": [],
   "source": [
    "# Display the cleaned Happiness DataFrame\n",
    "happy_df.head()"
   ]
  },
  {
   "cell_type": "code",
   "execution_count": null,
   "metadata": {},
   "outputs": [],
   "source": [
    "# Display the cleaned DataFrame\n",
    "university_df.head()"
   ]
  },
  {
   "cell_type": "markdown",
   "metadata": {},
   "source": [
    "## Create database connection"
   ]
  },
  {
   "cell_type": "code",
   "execution_count": null,
   "metadata": {},
   "outputs": [],
   "source": [
    "# Require user to input postgres password\n",
    "password = input(\"Please input your postgres password: \")\n",
    "\n",
    "# Create connection\n",
    "connection_string = f\"postgres:{password}@localhost:5432/etl_project_db\"\n",
    "engine = create_engine(f'postgresql://{connection_string}')"
   ]
  },
  {
   "cell_type": "code",
   "execution_count": null,
   "metadata": {},
   "outputs": [],
   "source": [
    "# Confirm tables\n",
    "engine.table_names()"
   ]
  },
  {
   "cell_type": "markdown",
   "metadata": {},
   "source": [
    "## Load DataFrame into database"
   ]
  },
  {
   "cell_type": "code",
   "execution_count": null,
   "metadata": {},
   "outputs": [],
   "source": [
    "happy_df.to_sql(name='world_happiness', con=engine, if_exists='append', index=True)"
   ]
  },
  {
   "cell_type": "code",
   "execution_count": null,
   "metadata": {},
   "outputs": [],
   "source": [
    "university_df.to_sql(name='university_rankings', con=engine, if_exists='append', index=True)"
   ]
  },
  {
   "cell_type": "markdown",
   "metadata": {},
   "source": [
    "## Export DataFrames to csv Files"
   ]
  },
  {
   "cell_type": "code",
   "execution_count": null,
   "metadata": {},
   "outputs": [],
   "source": [
    "# saving the dataframe to csv files\n",
    "happy_df.to_csv(r'Results/final_world_happy_data.csv', header=True, index=False)\n",
    "university_df.to_csv(r'Results/final_univ_rank_data.csv', header=True, index=False)"
   ]
  },
  {
   "cell_type": "code",
   "execution_count": null,
   "metadata": {},
   "outputs": [],
   "source": []
  }
 ],
 "metadata": {
  "kernelspec": {
   "display_name": "Python [conda env:PythonData]",
   "language": "python",
   "name": "conda-env-PythonData-py"
  },
  "language_info": {
   "codemirror_mode": {
    "name": "ipython",
    "version": 3
   },
   "file_extension": ".py",
   "mimetype": "text/x-python",
   "name": "python",
   "nbconvert_exporter": "python",
   "pygments_lexer": "ipython3",
   "version": "3.6.10"
  }
 },
 "nbformat": 4,
 "nbformat_minor": 4
}
