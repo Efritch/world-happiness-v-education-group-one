{
 "cells": [
  {
   "cell_type": "code",
   "execution_count": 1,
   "metadata": {},
   "outputs": [],
   "source": [
    "# Dependencies\n",
    "import pandas as pd\n",
    "import matplotlib.pyplot as plt\n",
    "import scipy.stats as st\n",
    "from scipy.stats import linregress"
   ]
  },
  {
   "cell_type": "markdown",
   "metadata": {},
   "source": [
    "## Number of Ranked Universities per Country"
   ]
  },
  {
   "cell_type": "code",
   "execution_count": 2,
   "metadata": {},
   "outputs": [
    {
     "data": {
      "text/html": [
       "<div>\n",
       "<style scoped>\n",
       "    .dataframe tbody tr th:only-of-type {\n",
       "        vertical-align: middle;\n",
       "    }\n",
       "\n",
       "    .dataframe tbody tr th {\n",
       "        vertical-align: top;\n",
       "    }\n",
       "\n",
       "    .dataframe thead th {\n",
       "        text-align: right;\n",
       "    }\n",
       "</style>\n",
       "<table border=\"1\" class=\"dataframe\">\n",
       "  <thead>\n",
       "    <tr style=\"text-align: right;\">\n",
       "      <th></th>\n",
       "      <th>country</th>\n",
       "      <th>Number of Ranked Universities</th>\n",
       "    </tr>\n",
       "  </thead>\n",
       "  <tbody>\n",
       "    <tr>\n",
       "      <th>0</th>\n",
       "      <td>United States</td>\n",
       "      <td>157</td>\n",
       "    </tr>\n",
       "    <tr>\n",
       "      <th>1</th>\n",
       "      <td>United Kingdom</td>\n",
       "      <td>76</td>\n",
       "    </tr>\n",
       "    <tr>\n",
       "      <th>2</th>\n",
       "      <td>Germany</td>\n",
       "      <td>45</td>\n",
       "    </tr>\n",
       "    <tr>\n",
       "      <th>3</th>\n",
       "      <td>Japan</td>\n",
       "      <td>44</td>\n",
       "    </tr>\n",
       "    <tr>\n",
       "      <th>4</th>\n",
       "      <td>China</td>\n",
       "      <td>40</td>\n",
       "    </tr>\n",
       "  </tbody>\n",
       "</table>\n",
       "</div>"
      ],
      "text/plain": [
       "          country  Number of Ranked Universities\n",
       "0   United States                            157\n",
       "1  United Kingdom                             76\n",
       "2         Germany                             45\n",
       "3           Japan                             44\n",
       "4           China                             40"
      ]
     },
     "execution_count": 2,
     "metadata": {},
     "output_type": "execute_result"
    }
   ],
   "source": [
    "# Extract CSV into DataFrame\n",
    "count_file = \"results/chart_data.csv\"\n",
    "count_file = pd.read_csv(count_file, encoding='UTF-8')\n",
    "count_file.head()"
   ]
  },
  {
   "cell_type": "code",
   "execution_count": null,
   "metadata": {},
   "outputs": [],
   "source": [
    "# Create a bar plot showing number of ranked universities per country\n",
    "count_file.plot.bar(x='country', y='Number of Ranked Universities', legend=False, figsize=(20,10))\n",
    "plt.title(\"Figure 1: Total Ranked Universities by Country\")\n",
    "plt.tight_layout()\n",
    "plt.savefig(\"Results/Number of Ranked Universities per Country Visualization.png\")"
   ]
  },
  {
   "cell_type": "markdown",
   "metadata": {},
   "source": [
    "__Countries with the most top-1000 universities:__\n",
    "\n",
    "1. United States: 157\n",
    "2. United Kingdom: 76\n",
    "3. Germany: 45"
   ]
  },
  {
   "cell_type": "markdown",
   "metadata": {},
   "source": [
    "## Happiness Rank vs. Ranked University Counts"
   ]
  },
  {
   "cell_type": "code",
   "execution_count": null,
   "metadata": {},
   "outputs": [],
   "source": [
    "# Extract CSV into DataFrame\n",
    "happy_universities = \"results/happiness_rank_and_university_count.csv\"\n",
    "happy_universities = pd.read_csv(happy_universities, encoding='UTF-8')\n",
    "happy_universities.head()"
   ]
  },
  {
   "cell_type": "code",
   "execution_count": null,
   "metadata": {},
   "outputs": [],
   "source": [
    "# Plot happiness rank and university count on a scatter plot\n",
    "happy_universities.plot.scatter('Happiness Rank', 'University Count')\n",
    "plt.title('Happiness Rank vs. Ranked Universities')"
   ]
  },
  {
   "cell_type": "code",
   "execution_count": null,
   "metadata": {},
   "outputs": [],
   "source": [
    "# Define x- and y-values\n",
    "x_values = happy_universities['Happiness Rank']\n",
    "y_values = happy_universities['University Count']\n",
    "\n",
    "# Create scatter plot showing linear regression\n",
    "(slope, intercept, rvalue, pvalue, stderr) = linregress(x_values, y_values)\n",
    "regress_values = x_values * slope + intercept\n",
    "line_eq = \"y = \" + str(round(slope,2)) + \"x + \" + str(round(intercept,2))\n",
    "plt.scatter(x_values, y_values)\n",
    "plt.plot(x_values,regress_values,\"r-\")\n",
    "plt.annotate(line_eq,(80,100),fontsize=15,color=\"red\")\n",
    "\n",
    "# Create graph labels\n",
    "plt.xlabel('Happiness Rank')\n",
    "plt.ylabel('University Count')\n",
    "plt.title('Figure 2: Happiness Rank vs. Ranked Universities')\n",
    "\n",
    "# Determine Pearson correlation between happiness rank and university count\n",
    "correlation = st.pearsonr(x_values, y_values)\n",
    "print(f\"The correlation between both factors is {round(correlation[0],2)}\")\n",
    "\n",
    "# Save full figure as PNG file\n",
    "plt.savefig(\"Results/happiness_rank_vs_ranked_university_count.png\")"
   ]
  },
  {
   "cell_type": "markdown",
   "metadata": {},
   "source": [
    "Figure 2 shows the happiness rank of country vs. the number of universities it has ranked in the top 1000. The correlation between the two variables appears to be very weak at best; however, the correlation is generally negative. In general, it is preferable to have a lower happiness rank (thereby being a happier country) and a higher ranked university count; therefore, a negative correlation was expected.\n",
    "\n",
    "It is worth noting that the Sustainable Development Solutions Network ranked happiness in 2019 on six categories, none of which directly referred to education. Had the happiness index included a measure on access to public education or average education level, then we would have expected a stronger correlation."
   ]
  },
  {
   "cell_type": "markdown",
   "metadata": {},
   "source": [
    "## University Rank Changes from 2018 to 2019: Best & Worst"
   ]
  },
  {
   "cell_type": "code",
   "execution_count": null,
   "metadata": {},
   "outputs": [],
   "source": [
    "# Extract CSV into DataFrame\n",
    "univ_rank_changes = pd.read_csv('Results/univ_rank_changes.csv')\n",
    "univ_rank_changes.head()"
   ]
  },
  {
   "cell_type": "code",
   "execution_count": null,
   "metadata": {},
   "outputs": [],
   "source": [
    "# Create dataframe to include the 15 universities that had the most positive change in rank\n",
    "best_univ_change = univ_rank_changes.sort_values(by=['rank_change'], ascending=False)\n",
    "best_15 = best_univ_change.nlargest(15,'rank_change')\n",
    "best_15"
   ]
  },
  {
   "cell_type": "code",
   "execution_count": null,
   "metadata": {},
   "outputs": [],
   "source": [
    "# Create chart to show the top 15 universities that had the greatest positive change in rank\n",
    "ax = best_15.plot.bar(x='institution_name', y='rank_change', legend=False, figsize=(8, 10))\n",
    "plt.title('Figure 3: Universities with Most Positive Change in Rank (2018 to 2019)')\n",
    "plt.xlabel('University')\n",
    "plt.ylabel('Change in Rank')\n",
    "plt.tight_layout()\n",
    "\n",
    "# Save full figure as PNG file\n",
    "plt.savefig(\"Results/most_positive_change_in_rank.png\")"
   ]
  },
  {
   "cell_type": "code",
   "execution_count": null,
   "metadata": {},
   "outputs": [],
   "source": [
    "# Create dataframe to include the 15 universities that had the most negative change in rank\n",
    "worst_univ_change = univ_rank_changes.sort_values(by=['rank_change'], ascending=True)\n",
    "worst_15 = worst_univ_change.nsmallest(15,'rank_change')\n",
    "worst_15"
   ]
  },
  {
   "cell_type": "code",
   "execution_count": null,
   "metadata": {},
   "outputs": [],
   "source": [
    "# Create chart to show the top 15 universities that had the greatest positive change in rank\n",
    "ay = worst_15.plot.bar(x='institution_name', y='rank_change', legend=False, figsize=(8, 10))\n",
    "plt.title('Figure 4: Universities with Most Negative Change in Rank (2018 to 2019)')\n",
    "plt.xlabel('University')\n",
    "plt.ylabel('Change in Rank')\n",
    "plt.tight_layout()\n",
    "\n",
    "# Save full figure as PNG file\n",
    "plt.savefig(\"Results/most_negative_change_in_rank.png\")"
   ]
  },
  {
   "cell_type": "code",
   "execution_count": null,
   "metadata": {},
   "outputs": [],
   "source": []
  }
 ],
 "metadata": {
  "kernelspec": {
   "display_name": "Python [conda env:PythonData]",
   "language": "python",
   "name": "conda-env-PythonData-py"
  },
  "language_info": {
   "codemirror_mode": {
    "name": "ipython",
    "version": 3
   },
   "file_extension": ".py",
   "mimetype": "text/x-python",
   "name": "python",
   "nbconvert_exporter": "python",
   "pygments_lexer": "ipython3",
   "version": "3.6.10"
  }
 },
 "nbformat": 4,
 "nbformat_minor": 4
}
